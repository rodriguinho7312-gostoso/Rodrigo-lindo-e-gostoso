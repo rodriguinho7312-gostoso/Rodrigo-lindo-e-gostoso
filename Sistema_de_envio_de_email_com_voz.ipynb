{
 "cells": [
  {
   "cell_type": "code",
   "execution_count": null,
   "id": "03a3a1b3",
   "metadata": {},
   "outputs": [],
   "source": []
  },
  {
   "cell_type": "code",
   "execution_count": 21,
   "id": "b0313a14",
   "metadata": {},
   "outputs": [],
   "source": [
    "#Baixar o selenium e  a voz do robo fdp kskskksks\n",
    "from email.mime.text import MIMEText as mt\n",
    "import smtplib as smt\n",
    "import pyttsx3 as voz\n",
    "import tkinter as tk\n",
    "#interface gráfica pika\n",
    "\n",
    "janela = tk.Tk()\n",
    "janela.title(\"Informações do usuario\")\n",
    "texto = tk.Label(janela, text=\"Preencha os campos abaixo\")\n",
    "texto.pack(pady=10,padx= 10)\n",
    "\n",
    "tk.Label(janela, text=\"Digite seu email:\").pack()\n",
    "entrada_email = tk.Entry(janela, width=30)\n",
    "entrada_email.pack()\n",
    "tk.Label(janela, text=\"Digite sua senha:\").pack()\n",
    "entrada_senha = tk.Entry(janela, width=30)\n",
    "entrada_senha.pack()\n",
    "\n",
    "tk.Label(janela, text=\"Digite o email do cabaço(a):\").pack()\n",
    "entrada_email_cabaco = tk.Entry(janela, width=30)\n",
    "entrada_email_cabaco.pack()\n",
    "\n",
    "tk.Label(janela, text=\"Digite a mensagem que quer enviar:\").pack()\n",
    "entrada_mensagem = tk.Entry(janela, width=30)\n",
    "entrada_mensagem.pack()\n",
    "def pegar_dados():\n",
    "    global emaillogin, senhalogin, email_recebedor, sua_mensagem\n",
    "    emaillogin = entrada_email.get()\n",
    "    senhalogin = entrada_senha.get()\n",
    "    email_recebedor = entrada_email_cabaco.get()\n",
    "    sua_mensagem = entrada_mensagem.get()\n",
    "    janela.destroy()\n",
    "\n",
    "\n",
    "botao = tk.Button(janela, text=\"Enviar\", command=pegar_dados)\n",
    "botao.pack(pady=20)\n",
    "\n",
    "janela.mainloop()\n",
    "\n",
    "\n",
    "\n",
    "\n",
    "#não dá para logar no google com o selenium então vou mudar um pouco a dinamica 8==D\n",
    "\n",
    "\n",
    "\n",
    "\n",
    "\n",
    "#envio de email pika\n",
    "\n",
    "mensagem = mt('{}'.format(sua_mensagem))\n",
    "mensagem['From'] = emaillogin\n",
    "mensagem['To'] = email_recebedor\n",
    "\n",
    "\n",
    "servidor = smt.SMTP(\"smtp.gmail.com\", 587)\n",
    "servidor.starttls()\n",
    "servidor.login(emaillogin, senhalogin)\n",
    "servidor.sendmail(mensagem[\"From\"], mensagem[\"To\"], mensagem.as_string())\n",
    "servidor.quit()\n",
    "\n",
    "\n",
    "\n",
    "#voz do robo muito pika kskskskksskksksk\n",
    "voz_robo = voz.init()\n",
    "voz_robo.say(\"{}\".format(sua_mensagem))\n",
    "voz_robo.say(\"Mensagem enviada com sucesso para {}\".format(email_recebedor))\n",
    "voz_robo.say('tchau e um beijo no bumbum')\n",
    "voz_robo.say('Quem executar esse código é muito é gay skskkskskskksksks')\n",
    "voz_robo.volume = 100\n",
    "voz_robo.runAndWait()\n",
    "\n"
   ]
  },
  {
   "cell_type": "code",
   "execution_count": null,
   "id": "e6b6d1d9",
   "metadata": {},
   "outputs": [
    {
     "ename": "SMTPAuthenticationError",
     "evalue": "(535, b'5.7.8 Username and Password not accepted. For more information, go to\\n5.7.8  https://support.google.com/mail/?p=BadCredentials d9443c01a7336-2466889a088sm74518535ad.134 - gsmtp')",
     "output_type": "error",
     "traceback": [
      "\u001b[31m---------------------------------------------------------------------------\u001b[39m",
      "\u001b[31mSMTPAuthenticationError\u001b[39m                   Traceback (most recent call last)",
      "\u001b[36mCell\u001b[39m\u001b[36m \u001b[39m\u001b[32mIn[13]\u001b[39m\u001b[32m, line 9\u001b[39m\n\u001b[32m      7\u001b[39m servidor = smt.SMTP(\u001b[33m\"\u001b[39m\u001b[33msmtp.gmail.com\u001b[39m\u001b[33m\"\u001b[39m, \u001b[32m587\u001b[39m)\n\u001b[32m      8\u001b[39m servidor.starttls()\n\u001b[32m----> \u001b[39m\u001b[32m9\u001b[39m \u001b[43mservidor\u001b[49m\u001b[43m.\u001b[49m\u001b[43mlogin\u001b[49m\u001b[43m(\u001b[49m\u001b[43memaillogin\u001b[49m\u001b[43m,\u001b[49m\u001b[43m \u001b[49m\u001b[43msenhalogin\u001b[49m\u001b[43m)\u001b[49m\n\u001b[32m     10\u001b[39m servidor.sendmail(mensagem[\u001b[33m\"\u001b[39m\u001b[33mFrom\u001b[39m\u001b[33m\"\u001b[39m], mensagem[\u001b[33m\"\u001b[39m\u001b[33mTo\u001b[39m\u001b[33m\"\u001b[39m], mensagem.as_string())\n\u001b[32m     11\u001b[39m servidor.quit()\n",
      "\u001b[36mFile \u001b[39m\u001b[32mc:\\Users\\rodri\\AppData\\Local\\Programs\\Python\\Python313\\Lib\\smtplib.py:750\u001b[39m, in \u001b[36mSMTP.login\u001b[39m\u001b[34m(self, user, password, initial_response_ok)\u001b[39m\n\u001b[32m    747\u001b[39m         last_exception = e\n\u001b[32m    749\u001b[39m \u001b[38;5;66;03m# We could not login successfully.  Return result of last attempt.\u001b[39;00m\n\u001b[32m--> \u001b[39m\u001b[32m750\u001b[39m \u001b[38;5;28;01mraise\u001b[39;00m last_exception\n",
      "\u001b[36mFile \u001b[39m\u001b[32mc:\\Users\\rodri\\AppData\\Local\\Programs\\Python\\Python313\\Lib\\smtplib.py:739\u001b[39m, in \u001b[36mSMTP.login\u001b[39m\u001b[34m(self, user, password, initial_response_ok)\u001b[39m\n\u001b[32m    737\u001b[39m method_name = \u001b[33m'\u001b[39m\u001b[33mauth_\u001b[39m\u001b[33m'\u001b[39m + authmethod.lower().replace(\u001b[33m'\u001b[39m\u001b[33m-\u001b[39m\u001b[33m'\u001b[39m, \u001b[33m'\u001b[39m\u001b[33m_\u001b[39m\u001b[33m'\u001b[39m)\n\u001b[32m    738\u001b[39m \u001b[38;5;28;01mtry\u001b[39;00m:\n\u001b[32m--> \u001b[39m\u001b[32m739\u001b[39m     (code, resp) = \u001b[38;5;28;43mself\u001b[39;49m\u001b[43m.\u001b[49m\u001b[43mauth\u001b[49m\u001b[43m(\u001b[49m\n\u001b[32m    740\u001b[39m \u001b[43m        \u001b[49m\u001b[43mauthmethod\u001b[49m\u001b[43m,\u001b[49m\u001b[43m \u001b[49m\u001b[38;5;28;43mgetattr\u001b[39;49m\u001b[43m(\u001b[49m\u001b[38;5;28;43mself\u001b[39;49m\u001b[43m,\u001b[49m\u001b[43m \u001b[49m\u001b[43mmethod_name\u001b[49m\u001b[43m)\u001b[49m\u001b[43m,\u001b[49m\n\u001b[32m    741\u001b[39m \u001b[43m        \u001b[49m\u001b[43minitial_response_ok\u001b[49m\u001b[43m=\u001b[49m\u001b[43minitial_response_ok\u001b[49m\u001b[43m)\u001b[49m\n\u001b[32m    742\u001b[39m     \u001b[38;5;66;03m# 235 == 'Authentication successful'\u001b[39;00m\n\u001b[32m    743\u001b[39m     \u001b[38;5;66;03m# 503 == 'Error: already authenticated'\u001b[39;00m\n\u001b[32m    744\u001b[39m     \u001b[38;5;28;01mif\u001b[39;00m code \u001b[38;5;129;01min\u001b[39;00m (\u001b[32m235\u001b[39m, \u001b[32m503\u001b[39m):\n",
      "\u001b[36mFile \u001b[39m\u001b[32mc:\\Users\\rodri\\AppData\\Local\\Programs\\Python\\Python313\\Lib\\smtplib.py:662\u001b[39m, in \u001b[36mSMTP.auth\u001b[39m\u001b[34m(self, mechanism, authobject, initial_response_ok)\u001b[39m\n\u001b[32m    660\u001b[39m \u001b[38;5;28;01mif\u001b[39;00m code \u001b[38;5;129;01min\u001b[39;00m (\u001b[32m235\u001b[39m, \u001b[32m503\u001b[39m):\n\u001b[32m    661\u001b[39m     \u001b[38;5;28;01mreturn\u001b[39;00m (code, resp)\n\u001b[32m--> \u001b[39m\u001b[32m662\u001b[39m \u001b[38;5;28;01mraise\u001b[39;00m SMTPAuthenticationError(code, resp)\n",
      "\u001b[31mSMTPAuthenticationError\u001b[39m: (535, b'5.7.8 Username and Password not accepted. For more information, go to\\n5.7.8  https://support.google.com/mail/?p=BadCredentials d9443c01a7336-2466889a088sm74518535ad.134 - gsmtp')"
     ]
    }
   ],
   "source": [
    "#email\n",
    "mensagem = mt('{}'.format(sua_mensagem))\n",
    "mensagem['From'] = emaillogin\n",
    "mensagem['To'] = email_recebedor\n",
    "\n",
    "\n",
    "servidor = smt.SMTP(\"smtp.gmail.com\", 587)\n",
    "servidor.starttls()\n",
    "servidor.login(emaillogin, senhalogin)\n",
    "servidor.sendmail(mensagem[\"From\"], mensagem[\"To\"], mensagem.as_string())\n",
    "servidor.quit()\n"
   ]
  },
  {
   "cell_type": "code",
   "execution_count": null,
   "id": "0983c1e7",
   "metadata": {},
   "outputs": [],
   "source": []
  },
  {
   "cell_type": "code",
   "execution_count": null,
   "id": "5193d218",
   "metadata": {},
   "outputs": [
    {
     "ename": "NameError",
     "evalue": "name 'Label' is not defined",
     "output_type": "error",
     "traceback": [
      "\u001b[31m---------------------------------------------------------------------------\u001b[39m",
      "\u001b[31mNameError\u001b[39m                                 Traceback (most recent call last)",
      "\u001b[36mCell\u001b[39m\u001b[36m \u001b[39m\u001b[32mIn[13]\u001b[39m\u001b[32m, line 4\u001b[39m\n\u001b[32m      2\u001b[39m janela = tk.Tk()\n\u001b[32m      3\u001b[39m janela.title(\u001b[33m\"\u001b[39m\u001b[33mInformações do usuario\u001b[39m\u001b[33m\"\u001b[39m)\n\u001b[32m----> \u001b[39m\u001b[32m4\u001b[39m texto = \u001b[43mLabel\u001b[49m(janela, text=\u001b[33m\"\u001b[39m\u001b[33mPreencha os campos abaixo\u001b[39m\u001b[33m\"\u001b[39m)\n\u001b[32m      5\u001b[39m texto.grid(column=\u001b[32m0\u001b[39m, row=\u001b[32m0\u001b[39m)\n\u001b[32m      6\u001b[39m janela.mainloop()\n",
      "\u001b[31mNameError\u001b[39m: name 'Label' is not defined"
     ]
    }
   ],
   "source": [
    "import smtplib\n",
    "servidor = smtplib.SMTP(\"smtp.gmail.com\", 587)\n",
    "servidor.starttls()\n",
    "servidor.login(\"rodriguinho7312@gmail.com\", \"\")\n"
   ]
  },
  {
   "cell_type": "code",
   "execution_count": null,
   "id": "d13b2354",
   "metadata": {},
   "outputs": [],
   "source": []
  }
 ],
 "metadata": {
  "kernelspec": {
   "display_name": "Python 3",
   "language": "python",
   "name": "python3"
  },
  "language_info": {
   "codemirror_mode": {
    "name": "ipython",
    "version": 3
   },
   "file_extension": ".py",
   "mimetype": "text/x-python",
   "name": "python",
   "nbconvert_exporter": "python",
   "pygments_lexer": "ipython3",
   "version": "3.13.7"
  }
 },
 "nbformat": 4,
 "nbformat_minor": 5
}
